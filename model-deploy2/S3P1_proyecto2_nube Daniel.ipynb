{
 "cells": [
  {
   "cell_type": "markdown",
   "metadata": {
    "id": "aq4aTOrNFWXZ"
   },
   "source": [
    "![image info](https://raw.githubusercontent.com/albahnsen/MIAD_ML_and_NLP/main/images/banner_1.png)"
   ]
  },
  {
   "cell_type": "markdown",
   "metadata": {
    "id": "rUM0uK7XFWXc"
   },
   "source": [
    "# Disponibilización de modelos\n",
    "\n",
    "En este notebook aprenderá a guardar un modelo y a disponibilizarlo como una API con la librería Flask. Una API (interfaz de programación de aplicaciones) es un conjunto de definiciones y protocolos que permiten que servicios, en este caso modelos, retornen resultados y respuestas sin necesidad de saber cómo están implementados."
   ]
  },
  {
   "cell_type": "markdown",
   "metadata": {
    "id": "aCe2CvVLFWXc"
   },
   "source": [
    "## Instrucciones Generales:\n",
    "\n",
    "Este notebook esta compuesto por dos secciones. En la primera sección, usted beberá entrenar y guardar (exportar) un modelo de random forest para predecir si una URL es phishing (fraudulenta) o no. En la segunda parte, usará el modelo entrenado y lo disponibilizara usando la libreria *Flask*. En el siguente paper puede conocer más detalles de la base de datos que usaremos y del problema: *A. Correa Bahnsen, E. C. Bohorquez, S. Villegas, J. Vargas, and F. A. Gonzalez, “Classifying phishing urls using recurrent neural networks,” in Electronic Crime Research (eCrime), 2017 APWG Symposium on. IEEE, 2017, pp. 1–8*. https://albahnsen.files.wordpress.com/2018/05/classifying-phishing-urls-using-recurrent-neural-networks_cameraready.pdf\n",
    "\n",
    "**Nota:** Para desarrollar la actividad, **descargue el notebook o ábralo desde el repositorio clonado de GitHub del curso** y siga las indicaciones que encontrará en cada una de las celdas de **manera local**. Este laboratorio no se puede ejecutar en la plataforma de Coursera pues requiere exportar e importar archivos relacionados en el repositorio del curso."
   ]
  },
  {
   "cell_type": "markdown",
   "metadata": {
    "id": "fs5Q6XsQFWXd"
   },
   "source": [
    "## Importar base de datos y librerías"
   ]
  },
  {
   "cell_type": "code",
   "execution_count": 1,
   "metadata": {},
   "outputs": [
    {
     "name": "stdout",
     "output_type": "stream",
     "text": [
      "Requirement already satisfied: pandas in c:\\users\\sistemas\\anaconda3\\lib\\site-packages (1.3.4)\n",
      "Requirement already satisfied: numpy>=1.17.3 in c:\\users\\sistemas\\anaconda3\\lib\\site-packages (from pandas) (1.20.3)\n",
      "Requirement already satisfied: pytz>=2017.3 in c:\\users\\sistemas\\anaconda3\\lib\\site-packages (from pandas) (2021.3)\n",
      "Requirement already satisfied: python-dateutil>=2.7.3 in c:\\users\\sistemas\\anaconda3\\lib\\site-packages (from pandas) (2.8.2)\n",
      "Requirement already satisfied: six>=1.5 in c:\\users\\sistemas\\anaconda3\\lib\\site-packages (from python-dateutil>=2.7.3->pandas) (1.16.0)\n",
      "Requirement already satisfied: numpy in c:\\users\\sistemas\\anaconda3\\lib\\site-packages (1.20.3)\n",
      "Requirement already satisfied: xgboost in c:\\users\\sistemas\\anaconda3\\lib\\site-packages (1.6.0)\n",
      "Requirement already satisfied: scipy in c:\\users\\sistemas\\anaconda3\\lib\\site-packages (from xgboost) (1.7.1)\n",
      "Requirement already satisfied: numpy in c:\\users\\sistemas\\anaconda3\\lib\\site-packages (from xgboost) (1.20.3)\n",
      "Requirement already satisfied: sklearn in c:\\users\\sistemas\\anaconda3\\lib\\site-packages (0.0)\n",
      "Requirement already satisfied: scikit-learn in c:\\users\\sistemas\\anaconda3\\lib\\site-packages (from sklearn) (0.24.2)\n",
      "Requirement already satisfied: numpy>=1.13.3 in c:\\users\\sistemas\\anaconda3\\lib\\site-packages (from scikit-learn->sklearn) (1.20.3)\n",
      "Requirement already satisfied: threadpoolctl>=2.0.0 in c:\\users\\sistemas\\anaconda3\\lib\\site-packages (from scikit-learn->sklearn) (2.2.0)\n",
      "Requirement already satisfied: joblib>=0.11 in c:\\users\\sistemas\\anaconda3\\lib\\site-packages (from scikit-learn->sklearn) (1.1.0)\n",
      "Requirement already satisfied: scipy>=0.19.1 in c:\\users\\sistemas\\anaconda3\\lib\\site-packages (from scikit-learn->sklearn) (1.7.1)\n",
      "Requirement already satisfied: Flask in c:\\users\\sistemas\\anaconda3\\lib\\site-packages (1.1.2)\n",
      "Requirement already satisfied: itsdangerous>=0.24 in c:\\users\\sistemas\\anaconda3\\lib\\site-packages (from Flask) (2.0.1)\n",
      "Requirement already satisfied: Werkzeug>=0.15 in c:\\users\\sistemas\\anaconda3\\lib\\site-packages (from Flask) (2.0.2)\n",
      "Requirement already satisfied: Jinja2>=2.10.1 in c:\\users\\sistemas\\anaconda3\\lib\\site-packages (from Flask) (2.11.3)\n",
      "Requirement already satisfied: click>=5.1 in c:\\users\\sistemas\\anaconda3\\lib\\site-packages (from Flask) (8.0.3)\n",
      "Requirement already satisfied: colorama in c:\\users\\sistemas\\anaconda3\\lib\\site-packages (from click>=5.1->Flask) (0.4.4)\n",
      "Requirement already satisfied: MarkupSafe>=0.23 in c:\\users\\sistemas\\anaconda3\\lib\\site-packages (from Jinja2>=2.10.1->Flask) (1.1.1)\n",
      "Requirement already satisfied: flask_restx in c:\\users\\sistemas\\anaconda3\\lib\\site-packages (0.5.1)\n",
      "Requirement already satisfied: six>=1.3.0 in c:\\users\\sistemas\\anaconda3\\lib\\site-packages (from flask_restx) (1.16.0)\n",
      "Requirement already satisfied: aniso8601>=0.82 in c:\\users\\sistemas\\anaconda3\\lib\\site-packages (from flask_restx) (9.0.1)\n",
      "Requirement already satisfied: werkzeug!=2.0.0 in c:\\users\\sistemas\\anaconda3\\lib\\site-packages (from flask_restx) (2.0.2)\n",
      "Requirement already satisfied: Flask!=2.0.0,>=0.8 in c:\\users\\sistemas\\anaconda3\\lib\\site-packages (from flask_restx) (1.1.2)\n",
      "Requirement already satisfied: jsonschema in c:\\users\\sistemas\\anaconda3\\lib\\site-packages (from flask_restx) (3.2.0)\n",
      "Requirement already satisfied: pytz in c:\\users\\sistemas\\anaconda3\\lib\\site-packages (from flask_restx) (2021.3)\n",
      "Requirement already satisfied: click>=5.1 in c:\\users\\sistemas\\anaconda3\\lib\\site-packages (from Flask!=2.0.0,>=0.8->flask_restx) (8.0.3)\n",
      "Requirement already satisfied: Jinja2>=2.10.1 in c:\\users\\sistemas\\anaconda3\\lib\\site-packages (from Flask!=2.0.0,>=0.8->flask_restx) (2.11.3)\n",
      "Requirement already satisfied: itsdangerous>=0.24 in c:\\users\\sistemas\\anaconda3\\lib\\site-packages (from Flask!=2.0.0,>=0.8->flask_restx) (2.0.1)\n",
      "Requirement already satisfied: colorama in c:\\users\\sistemas\\anaconda3\\lib\\site-packages (from click>=5.1->Flask!=2.0.0,>=0.8->flask_restx) (0.4.4)\n",
      "Requirement already satisfied: MarkupSafe>=0.23 in c:\\users\\sistemas\\anaconda3\\lib\\site-packages (from Jinja2>=2.10.1->Flask!=2.0.0,>=0.8->flask_restx) (1.1.1)\n",
      "Requirement already satisfied: pyrsistent>=0.14.0 in c:\\users\\sistemas\\anaconda3\\lib\\site-packages (from jsonschema->flask_restx) (0.18.0)\n",
      "Requirement already satisfied: attrs>=17.4.0 in c:\\users\\sistemas\\anaconda3\\lib\\site-packages (from jsonschema->flask_restx) (21.2.0)\n",
      "Requirement already satisfied: setuptools in c:\\users\\sistemas\\anaconda3\\lib\\site-packages (from jsonschema->flask_restx) (58.0.4)\n",
      "Requirement already satisfied: joblib in c:\\users\\sistemas\\anaconda3\\lib\\site-packages (1.1.0)\n"
     ]
    }
   ],
   "source": [
    "# instalar flask_restplus\n",
    "!pip install pandas\n",
    "!pip install numpy\n",
    "!pip install xgboost\n",
    "!pip install sklearn\n",
    "!pip install Flask\n",
    "!pip install flask_restx\n",
    "!pip install joblib\n",
    "#!pip install werkzeug"
   ]
  },
  {
   "cell_type": "markdown",
   "metadata": {},
   "source": [
    "exportar importar modelo xgboost\n",
    "\n",
    "https://mljar.com/blog/xgboost-save-load-python/"
   ]
  },
  {
   "cell_type": "code",
   "execution_count": 70,
   "metadata": {},
   "outputs": [],
   "source": [
    "import pandas as pd\n",
    "import numpy as np\n",
    "from xgboost import XGBClassifier\n",
    "from sklearn.feature_extraction.text import CountVectorizer\n",
    "from sklearn.multiclass import OneVsRestClassifier\n",
    "from sklearn.pipeline import Pipeline\n",
    "from joblib import load\n",
    "\n",
    "def predict_genres(Movie):\n",
    "    \n",
    "    # Carga modelo\n",
    "    modelo_ = load('LogReg_pipeline.joblib')\n",
    "    \n",
    "     \n",
    "    # Make prediction\n",
    "    genres_name = ['Action', 'Adventure', 'Animation', 'Biography', 'Comedy', 'Crime', 'Documentary',\n",
    "           'Drama', 'Family', 'Fantasy', 'Film-Noir', 'History', 'Horror', 'Music', 'Musical',\n",
    "           'Mystery', 'News', 'Romance', 'Sci-Fi', 'Short', 'Sport', 'Thriller', 'War', 'Western']\n",
    "    genres_description = []\n",
    "    genres = ((modelo_.predict_proba([Movie]) >= 0.5)*1)[0]\n",
    "    if sum(genres) > 0:\n",
    "        for i in range(len(genres_name)):\n",
    "            if genres[i] == 1:\n",
    "                genres_description.append(genres_name[i])\n",
    "    else:\n",
    "        genres_description = ['No matches in Generes']\n",
    "    \n",
    "    return genres_description\n"
   ]
  },
  {
   "cell_type": "code",
   "execution_count": 72,
   "metadata": {},
   "outputs": [
    {
     "data": {
      "text/plain": [
       "['No matches in Generes']"
      ]
     },
     "execution_count": 72,
     "metadata": {},
     "output_type": "execute_result"
    }
   ],
   "source": [
    "predict_genres('exploration violent society depictions violence reflect shape culture middle class family submits physically mentally torture violence death foisted upon two young unexpected white gloved visitors vacation retreat near lake')"
   ]
  },
  {
   "cell_type": "code",
   "execution_count": null,
   "metadata": {},
   "outputs": [
    {
     "name": "stdout",
     "output_type": "stream",
     "text": [
      " * Serving Flask app \"__main__\" (lazy loading)\n",
      " * Environment: production\n",
      "\u001b[31m   WARNING: This is a development server. Do not use it in a production deployment.\u001b[0m\n",
      "\u001b[2m   Use a production WSGI server instead.\u001b[0m\n",
      " * Debug mode: on\n"
     ]
    },
    {
     "name": "stderr",
     "output_type": "stream",
     "text": [
      " * Running on all addresses.\n",
      "   WARNING: This is a development server. Do not use it in a production deployment.\n",
      " * Running on http://172.24.50.160:5000/ (Press CTRL+C to quit)\n",
      "172.24.50.160 - - [24/May/2022 19:32:07] \"GET / HTTP/1.1\" 200 -\n",
      "172.24.50.160 - - [24/May/2022 19:32:07] \"GET /swagger.json HTTP/1.1\" 200 -\n",
      "172.24.50.160 - - [24/May/2022 19:32:24] \"POST /predict/?Movie=drama HTTP/1.1\" 200 -\n",
      "172.24.50.160 - - [24/May/2022 19:32:34] \"POST /predict/?Movie=action HTTP/1.1\" 200 -\n"
     ]
    }
   ],
   "source": [
    "#!/usr/bin/python\n",
    "from flask import Flask\n",
    "from flask_restx import Api, Resource, fields\n",
    "#import joblib\n",
    "#from S3P1_model_deployment import predict_price\n",
    "\n",
    "app = Flask(__name__)\n",
    "\n",
    "api = Api(\n",
    "    app, \n",
    "    version='1.0', \n",
    "    title='Movie Generes Prediction API',\n",
    "    description='Movie Generes Prediction API')\n",
    "\n",
    "ns = api.namespace('predict', \n",
    "     description='Movie Generes Classifier')\n",
    "   \n",
    "parser = api.parser()\n",
    "\n",
    "parser.add_argument(\n",
    "    'Movie', \n",
    "    type=str, \n",
    "    required=True, \n",
    "    help='Movie to be analyzed', \n",
    "    location='args')\n",
    "\n",
    "resource_fields = api.model('Resource', {\n",
    "    'Generes': fields.String,\n",
    "})\n",
    "\n",
    "@ns.route('/')\n",
    "class GenresApi(Resource):\n",
    "\n",
    "    @api.doc(parser=parser)\n",
    "    @api.marshal_with(resource_fields)\n",
    "    def post(self):\n",
    "        args = parser.parse_args()\n",
    "        \n",
    "        return {\n",
    "         \"Generes\": predict_genres(args['Movie'])\n",
    "        }, 200\n",
    "    \n",
    "    \n",
    "#if __name__ == '__main__':\n",
    "#    app.run()\n",
    "app.run(debug=True, use_reloader=False, host='0.0.0.0', port=5000)"
   ]
  }
 ],
 "metadata": {
  "colab": {
   "name": "05 Laboratorio Disponibilización de modelos S3LAB1_Microservicios.ipynb",
   "provenance": []
  },
  "kernelspec": {
   "display_name": "Python 3 (ipykernel)",
   "language": "python",
   "name": "python3"
  },
  "language_info": {
   "codemirror_mode": {
    "name": "ipython",
    "version": 3
   },
   "file_extension": ".py",
   "mimetype": "text/x-python",
   "name": "python",
   "nbconvert_exporter": "python",
   "pygments_lexer": "ipython3",
   "version": "3.9.7"
  }
 },
 "nbformat": 4,
 "nbformat_minor": 1
}
